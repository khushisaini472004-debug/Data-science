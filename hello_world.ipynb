{
  "nbformat": 4,
  "nbformat_minor": 0,
  "metadata": {
    "colab": {
      "provenance": [],
      "authorship_tag": "ABX9TyPF2L5ZLsg7YggsXqC44PZA",
      "include_colab_link": true
    },
    "kernelspec": {
      "name": "python3",
      "display_name": "Python 3"
    },
    "language_info": {
      "name": "python"
    }
  },
  "cells": [
    {
      "cell_type": "markdown",
      "metadata": {
        "id": "view-in-github",
        "colab_type": "text"
      },
      "source": [
        "<a href=\"https://colab.research.google.com/github/khushisaini472004-debug/Data-science/blob/main/hello_world.ipynb\" target=\"_parent\"><img src=\"https://colab.research.google.com/assets/colab-badge.svg\" alt=\"Open In Colab\"/></a>"
      ]
    },
    {
      "cell_type": "code",
      "execution_count": null,
      "metadata": {
        "colab": {
          "base_uri": "https://localhost:8080/"
        },
        "id": "WkJVHJr9wv0y",
        "outputId": "5234bf48-35e6-4efb-ec83-c184467e884d"
      },
      "outputs": [
        {
          "output_type": "stream",
          "name": "stdout",
          "text": [
            "HELLO WORLD\n"
          ]
        }
      ],
      "source": [
        "# cbitss data science\n",
        "\n",
        "\"\"\"khushi saini this side. i am pursuing data science from Cbitss in chandigarh.\n",
        "This is my first code on GitHub in Python\"\"\"\n",
        "print(\"HELLO WORLD\")"
      ]
    },
    {
      "cell_type": "code",
      "source": [
        "print(\"Khushi saini\")\n",
        "print(\"my age is 21\")"
      ],
      "metadata": {
        "colab": {
          "base_uri": "https://localhost:8080/"
        },
        "id": "yCQzPmGX0pjt",
        "outputId": "e626e73b-0279-4993-9281-94244e250cb6"
      },
      "execution_count": null,
      "outputs": [
        {
          "output_type": "stream",
          "name": "stdout",
          "text": [
            "Khushi saini\n",
            "my age is 21\n"
          ]
        }
      ]
    },
    {
      "cell_type": "code",
      "source": [
        "name = \"khushi saini\"\n",
        "print(\"  ** BIODATA  **\")\n",
        "\n",
        "print(\"Name \", name)\n",
        "\n",
        "print(\"Address : Vill- Nawada, P.O- Shivpur, Distt- Sirmaur , Paonta sahib, Himachal Pradesh\")\n",
        "age = \"21\"\n",
        "print(\"Age : \",age)\n",
        "email= \"khushisaini472004@gmail.com\"\n",
        "print(\"Email ID : \" , email)\n",
        "\n",
        "print(\"Phone number : 7018938831\")\n",
        "print(\"Place of Birth : Paonta Sahib\")\n",
        "print(\"Father's Name :  Mr. Kashmiri Saini\")\n",
        "print(\"Father's Occupation :  Lecturer of Political Science\")\n",
        "print(\"Mother's Name : Mrs. Anjuli saini\")\n",
        "print(\"Mother's Occupation : Housewife\")\n",
        "print(\"Siblings : Yukta saini, Surya saini\")\n",
        "\n",
        "print(\"  * EDUCATIONAL Qualifications *\")\n",
        "print(\"Degree : Bachelors of computer Application \")\n",
        "print(\"College : GDC Govt college from paonta sahib\")\n",
        "print(\"University : Himachal Pradesh University\")\n",
        "print(\"School : GNMPS, Paonta sahib\")\n",
        "print(\"Board : CBSE\")\n",
        "\n",
        "print(\"  * HOBBIES  *\")\n",
        "print(\"Reading novels\")\n",
        "\n",
        "print(\"  * LANGUAGE SPOKEN *\")\n",
        "print(\"Hindi,Punjabi,English\")\n",
        "\n",
        "print(\"Blood Group : A+\")"
      ],
      "metadata": {
        "id": "ABTitenO8DNm",
        "outputId": "e862caff-da1a-48bc-c348-eaa160126858",
        "colab": {
          "base_uri": "https://localhost:8080/"
        }
      },
      "execution_count": 28,
      "outputs": [
        {
          "output_type": "stream",
          "name": "stdout",
          "text": [
            "  ** BIODATA  **\n",
            "Name  khushi saini\n",
            "Address : Vill- Nawada, P.O- Shivpur, Distt- Sirmaur , Paonta sahib, Himachal Pradesh\n",
            "Age :  21\n",
            "Email ID :  khushisaini472004@gmail.com\n",
            "Phone number : 7018938831\n",
            "Place of Birth : Paonta Sahib\n",
            "Father's Name :  Mr. Kashmiri Saini\n",
            "Father's Occupation :  Lecturer of Political Science\n",
            "Mother's Name : Mrs. Anjuli saini\n",
            "Mother's Occupation : Housewife\n",
            "Siblings : Yukta saini, Surya saini\n",
            "  * EDUCATIONAL Qualifications *\n",
            "Degree : Bachelors of computer Application \n",
            "College : GDC Govt college from paonta sahib\n",
            "University : Himachal Pradesh University\n",
            "School : GNMPS, Paonta sahib\n",
            "Board : CBSE\n",
            "  * HOBBIES  *\n",
            "Reading novels\n",
            "  * LANGUAGE SPOKEN *\n",
            "Hindi,Punjabi,English\n",
            "Blood Group : A+\n"
          ]
        }
      ]
    },
    {
      "cell_type": "code",
      "source": [
        "my_name"
      ],
      "metadata": {
        "id": "iarAKxUfHU4G"
      },
      "execution_count": null,
      "outputs": []
    },
    {
      "cell_type": "code",
      "source": [
        "a=21\n",
        "print(\"variable value of a\" , a)\n",
        "b=5.6\n",
        "print(\"variable value of b\" ,b)\n",
        "c=78\n",
        "print(\"variable value of c\" , c)"
      ],
      "metadata": {
        "id": "DVSpNORNFvrq",
        "outputId": "f123a732-8c48-4bda-f9fd-3adaee985d2e",
        "colab": {
          "base_uri": "https://localhost:8080/"
        }
      },
      "execution_count": 20,
      "outputs": [
        {
          "output_type": "stream",
          "name": "stdout",
          "text": [
            "variable value of a 21\n",
            "variable value of b 5.6\n",
            "variable value of c 78\n"
          ]
        }
      ]
    },
    {
      "cell_type": "markdown",
      "source": [],
      "metadata": {
        "id": "Xj27E2500jTv"
      }
    }
  ]
}