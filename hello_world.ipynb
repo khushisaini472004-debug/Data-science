{
  "nbformat": 4,
  "nbformat_minor": 0,
  "metadata": {
    "colab": {
      "provenance": [],
      "authorship_tag": "ABX9TyPRzi4Z5ilRmGt/HLlJtQx4",
      "include_colab_link": true
    },
    "kernelspec": {
      "name": "python3",
      "display_name": "Python 3"
    },
    "language_info": {
      "name": "python"
    }
  },
  "cells": [
    {
      "cell_type": "markdown",
      "metadata": {
        "id": "view-in-github",
        "colab_type": "text"
      },
      "source": [
        "<a href=\"https://colab.research.google.com/github/khushisaini472004-debug/Data-science/blob/main/hello_world.ipynb\" target=\"_parent\"><img src=\"https://colab.research.google.com/assets/colab-badge.svg\" alt=\"Open In Colab\"/></a>"
      ]
    },
    {
      "cell_type": "code",
      "execution_count": 4,
      "metadata": {
        "colab": {
          "base_uri": "https://localhost:8080/"
        },
        "id": "WkJVHJr9wv0y",
        "outputId": "5234bf48-35e6-4efb-ec83-c184467e884d"
      },
      "outputs": [
        {
          "output_type": "stream",
          "name": "stdout",
          "text": [
            "HELLO WORLD\n"
          ]
        }
      ],
      "source": [
        "# cbitss data science\n",
        "\n",
        "\"\"\"khushi saini this side. i am pursuing data science from Cbitss in chandigarh.\n",
        "This is my first code on GitHub in Python\"\"\"\n",
        "print(\"HELLO WORLD\")"
      ]
    },
    {
      "cell_type": "code",
      "source": [
        "print(\"Khushi saini\")\n",
        "print(\"my age is 21\")"
      ],
      "metadata": {
        "colab": {
          "base_uri": "https://localhost:8080/"
        },
        "id": "yCQzPmGX0pjt",
        "outputId": "e626e73b-0279-4993-9281-94244e250cb6"
      },
      "execution_count": 7,
      "outputs": [
        {
          "output_type": "stream",
          "name": "stdout",
          "text": [
            "Khushi saini\n",
            "my age is 21\n"
          ]
        }
      ]
    },
    {
      "cell_type": "markdown",
      "source": [],
      "metadata": {
        "id": "Xj27E2500jTv"
      }
    }
  ]
}