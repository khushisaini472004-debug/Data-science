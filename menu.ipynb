{
  "nbformat": 4,
  "nbformat_minor": 0,
  "metadata": {
    "colab": {
      "provenance": [],
      "authorship_tag": "ABX9TyPcGvdYyrlaYQbLl3OD2PFz",
      "include_colab_link": true
    },
    "kernelspec": {
      "name": "python3",
      "display_name": "Python 3"
    },
    "language_info": {
      "name": "python"
    }
  },
  "cells": [
    {
      "cell_type": "markdown",
      "metadata": {
        "id": "view-in-github",
        "colab_type": "text"
      },
      "source": [
        "<a href=\"https://colab.research.google.com/github/khushisaini472004-debug/Data-science/blob/main/menu.ipynb\" target=\"_parent\"><img src=\"https://colab.research.google.com/assets/colab-badge.svg\" alt=\"Open In Colab\"/></a>"
      ]
    },
    {
      "cell_type": "code",
      "execution_count": 4,
      "metadata": {
        "colab": {
          "base_uri": "https://localhost:8080/"
        },
        "id": "YvrPWMBV44Bc",
        "outputId": "dd63075c-fab6-4b31-fcc1-461c512c3e8f"
      },
      "outputs": [
        {
          "output_type": "stream",
          "name": "stdout",
          "text": [
            "        *FOOD MENU*     \n",
            "\n",
            "    Main Course   \n",
            "Cheese Burger     ......$30\n",
            "Cheese Sandwich   ......$40\n",
            "Chicken Sandwich  ......$15\n",
            "Spicy Chicken     ......$20\n",
            "Hot Dog           ......$15\n",
            "\n",
            "    Appetizers\n",
            "Fruit Salad       ......$13\n",
            "Cocktails         ......$12\n",
            "Nuggets           ......$14\n",
            "Sandwich          ......$13\n",
            "French Fries      ......$15\n",
            "\n",
            "    Beverages\n",
            "Milk shake        .......$3\n",
            "Iced Tea          .......$2\n",
            "Orange Juice      .......$4\n",
            "Lemon Tea         .......$3\n",
            "Coffee            .......$5\n"
          ]
        }
      ],
      "source": [
        "print(\"        *FOOD MENU*     \")\n",
        "print(\"\")\n",
        "print(\"    Main Course   \")\n",
        "print(\"Cheese Burger     ......$30\")\n",
        "print(\"Cheese Sandwich   ......$40\")\n",
        "print(\"Chicken Sandwich  ......$15\")\n",
        "print(\"Spicy Chicken     ......$20\")\n",
        "print(\"Hot Dog           ......$15\")\n",
        "print(\"\")\n",
        "print(\"    Appetizers\")\n",
        "print(\"Fruit Salad       ......$13\")\n",
        "print(\"Cocktails         ......$12\")\n",
        "print(\"Nuggets           ......$14\")\n",
        "print(\"Sandwich          ......$13\")\n",
        "print(\"French Fries      ......$15\")\n",
        "print(\"\")\n",
        "print(\"    Beverages\")\n",
        "print(\"Milk shake        .......$3\")\n",
        "print(\"Iced Tea          .......$2\")\n",
        "print(\"Orange Juice      .......$4\")\n",
        "print(\"Lemon Tea         .......$3\")\n",
        "print(\"Coffee            .......$5\")"
      ]
    }
  ]
}